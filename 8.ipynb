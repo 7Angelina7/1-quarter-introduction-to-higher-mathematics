{
 "cells": [
  {
   "cell_type": "code",
   "execution_count": null,
   "id": "2e5257b0",
   "metadata": {},
   "outputs": [],
   "source": [
    "Задание 6.1"
   ]
  },
  {
   "cell_type": "code",
   "execution_count": 2,
   "id": "78541b7b",
   "metadata": {},
   "outputs": [
    {
     "data": {
      "text/plain": [
       "array([-9.2       ,  0.9       ,  6.46666667])"
      ]
     },
     "execution_count": 2,
     "metadata": {},
     "output_type": "execute_result"
    }
   ],
   "source": [
    "import numpy as np\n",
    "A = np.array([[1,2,3],[4,0,6],[7,8,9]])\n",
    "B = np.array([12,2,1])\n",
    "np.linalg.solve(A, B)"
   ]
  },
  {
   "cell_type": "code",
   "execution_count": null,
   "id": "3381f4e1",
   "metadata": {},
   "outputs": [],
   "source": [
    "Задание 6.2"
   ]
  },
  {
   "cell_type": "code",
   "execution_count": 3,
   "id": "4e0c02ba",
   "metadata": {},
   "outputs": [
    {
     "name": "stderr",
     "output_type": "stream",
     "text": [
      "C:\\Users\\User\\AppData\\Local\\Temp/ipykernel_20964/3606809366.py:3: FutureWarning: `rcond` parameter will change to the default of machine precision times ``max(M, N)`` where M and N are the input matrix dimensions.\n",
      "To use the future default and silence this warning we advise to pass `rcond=None`, to keep using the old, explicitly pass `rcond=-1`.\n",
      "  np.linalg.lstsq(A, B)\n"
     ]
    },
    {
     "data": {
      "text/plain": [
       "(array([ 1.15601029, -0.889718  , -0.85029782]),\n",
       " array([0.66772534]),\n",
       " 3,\n",
       " array([14.89650167, 10.4695886 ,  2.73531577]))"
      ]
     },
     "execution_count": 3,
     "metadata": {},
     "output_type": "execute_result"
    }
   ],
   "source": [
    "A = np.array([[1,2,-1],[3,-4,0],[8,-5,2],[2,-5,0],[11,4,-7]])\n",
    "B = np.array([1,7,12,7,15])\n",
    "np.linalg.lstsq(A, B)"
   ]
  },
  {
   "cell_type": "code",
   "execution_count": null,
   "id": "0f37f345",
   "metadata": {},
   "outputs": [],
   "source": [
    "Задание 6.3"
   ]
  },
  {
   "cell_type": "code",
   "execution_count": 4,
   "id": "406d1715",
   "metadata": {},
   "outputs": [
    {
     "name": "stdout",
     "output_type": "stream",
     "text": [
      "[-9.2         0.9         6.46666667]\n"
     ]
    },
    {
     "name": "stderr",
     "output_type": "stream",
     "text": [
      "C:\\Users\\User\\AppData\\Local\\Temp/ipykernel_20964/2172533775.py:4: FutureWarning: `rcond` parameter will change to the default of machine precision times ``max(M, N)`` where M and N are the input matrix dimensions.\n",
      "To use the future default and silence this warning we advise to pass `rcond=None`, to keep using the old, explicitly pass `rcond=-1`.\n",
      "  np.linalg.lstsq(a, b)\n"
     ]
    },
    {
     "data": {
      "text/plain": [
       "(array([-9.2       ,  0.9       ,  6.46666667]),\n",
       " array([], dtype=float64),\n",
       " 3,\n",
       " array([15.63376871,  3.81768041,  1.00528221]))"
      ]
     },
     "execution_count": 4,
     "metadata": {},
     "output_type": "execute_result"
    }
   ],
   "source": [
    "a = np.array([[1,2,3], [4,0,6],[7,8,9]])\n",
    "b = np.array([12,2,1])\n",
    "print(np.linalg.solve(a, b))\n",
    "np.linalg.lstsq(a, b)"
   ]
  },
  {
   "cell_type": "code",
   "execution_count": 5,
   "id": "9db7447a",
   "metadata": {},
   "outputs": [
    {
     "name": "stdout",
     "output_type": "stream",
     "text": [
      "[ 3.15251974e+16 -6.30503948e+16  3.15251974e+16]\n"
     ]
    },
    {
     "name": "stderr",
     "output_type": "stream",
     "text": [
      "C:\\Users\\User\\AppData\\Local\\Temp/ipykernel_20964/82626631.py:4: FutureWarning: `rcond` parameter will change to the default of machine precision times ``max(M, N)`` where M and N are the input matrix dimensions.\n",
      "To use the future default and silence this warning we advise to pass `rcond=None`, to keep using the old, explicitly pass `rcond=-1`.\n",
      "  np.linalg.lstsq(a, b)\n"
     ]
    },
    {
     "data": {
      "text/plain": [
       "(array([-1.80555556, -0.05555556,  1.69444444]),\n",
       " array([], dtype=float64),\n",
       " 2,\n",
       " array([1.68481034e+01, 1.06836951e+00, 4.41842475e-16]))"
      ]
     },
     "execution_count": 5,
     "metadata": {},
     "output_type": "execute_result"
    }
   ],
   "source": [
    "a = np.array([[1,2,3],[4,5,6],[7,8,9]])\n",
    "b = np.array([2,5,1])\n",
    "print(np.linalg.solve(a, b))\n",
    "np.linalg.lstsq(a, b)"
   ]
  },
  {
   "cell_type": "code",
   "execution_count": null,
   "id": "edf18649",
   "metadata": {},
   "outputs": [],
   "source": [
    "Задание 6.4"
   ]
  },
  {
   "cell_type": "code",
   "execution_count": 6,
   "id": "b57f031f",
   "metadata": {},
   "outputs": [
    {
     "name": "stdout",
     "output_type": "stream",
     "text": [
      "[[0. 1. 0.]\n",
      " [0. 0. 1.]\n",
      " [1. 0. 0.]]\n",
      "[[ 1.    0.    0.  ]\n",
      " [ 0.25  1.    0.  ]\n",
      " [ 0.5  -0.4   1.  ]]\n",
      "[[  4.    28.    73.  ]\n",
      " [  0.    -5.   -15.25]\n",
      " [  0.     0.   -21.6 ]]\n",
      "[[ -2. -12. -52.]\n",
      " [  3.  26.  70.]\n",
      " [ -1. -14. -18.]]\n"
     ]
    }
   ],
   "source": [
    "import numpy as np\n",
    "import matplotlib.pyplot as plt\n",
    "import scipy\n",
    "import scipy.linalg\n",
    "\n",
    "a = np.array([[1,2,3],[2,16,21],[4,28,73]])\n",
    "P, L, U = scipy.linalg.lu(a)\n",
    "print(P)\n",
    "print(L)\n",
    "print(U)\n",
    "print(np.dot(P, a) - np.dot(L, U))"
   ]
  },
  {
   "cell_type": "code",
   "execution_count": 7,
   "id": "7811dc47",
   "metadata": {},
   "outputs": [
    {
     "data": {
      "text/plain": [
       "array([ 1.01388889,  0.03472222, -0.02777778])"
      ]
     },
     "execution_count": 7,
     "metadata": {},
     "output_type": "execute_result"
    }
   ],
   "source": [
    "a = np.array([[1,2,3],[2,16,21],[4,28,73]])\n",
    "b = np.array([1,2,3])\n",
    "np.linalg.solve(a, b)"
   ]
  },
  {
   "cell_type": "code",
   "execution_count": null,
   "id": "490ec4b3",
   "metadata": {},
   "outputs": [],
   "source": [
    "Задание 6.5"
   ]
  },
  {
   "cell_type": "code",
   "execution_count": 15,
   "id": "c50248c4",
   "metadata": {},
   "outputs": [],
   "source": [
    "import numpy as np\n",
    "import matplotlib.pyplot as plt\n",
    "import scipy\n",
    "import scipy.linalg\n",
    "from pylab import *\n",
    "from mpl_toolkits.mplot3d import Axes3D"
   ]
  },
  {
   "cell_type": "code",
   "execution_count": 18,
   "id": "277e633b",
   "metadata": {},
   "outputs": [],
   "source": [
    "def Q(x, y, z):\n",
    "    return np.sqrt(x**2 + y**2 + z**2)"
   ]
  },
  {
   "cell_type": "code",
   "execution_count": 21,
   "id": "723ff312",
   "metadata": {},
   "outputs": [
    {
     "name": "stderr",
     "output_type": "stream",
     "text": [
      "C:\\Users\\User\\AppData\\Local\\Temp/ipykernel_20964/4032391090.py:2: MatplotlibDeprecationWarning: Axes3D(fig) adding itself to the figure is deprecated since 3.4. Pass the keyword argument auto_add_to_figure=False and use fig.add_axes(ax) to suppress this warning. The default value of auto_add_to_figure will change to False in mpl3.5 and True values will no longer work in 3.6.  This is consistent with other Axes classes.\n",
      "  ax = Axes3D(fig2)\n"
     ]
    },
    {
     "data": {
      "image/png": "[encoded data removed]",
      "text/plain": [
       "<Figure size 432x288 with 1 Axes>"
      ]
     },
     "metadata": {
      "needs_background": "light"
     },
     "output_type": "display_data"
    },
    {
     "name": "stdout",
     "output_type": "stream",
     "text": [
      "Ответ: (array([ 1.38191882, -0.18081181,  0.0202952 ]), array([], dtype=float64), 2, array([9.65316119, 2.41173777]))\n"
     ]
    }
   ],
   "source": [
    "fig2 = figure()\n",
    "ax = Axes3D(fig2)\n",
    "X = np.arange(-5, 5, 0.5)\n",
    "Y = np.arange(-5, 5, 0.5)\n",
    "X, Y = np.meshgrid(X, Y)\n",
    "ax.plot_surface(X, Y, Q(X, Y, X + 2*Y - 1))\n",
    "ax.plot_surface(X, Y, Q(X, Y, 12 - 8*X+5*Y))\n",
    "ax.scatter(0,0,0,'z',50,'red')\n",
    "show()\n",
    "A = np.array([[1, 2, -1], [8, -5, 2]])\n",
    "B = np.array([1, 12])\n",
    "print(f'Ответ: {np.linalg.lstsq(A,B, rcond=-1)}')"
   ]
  },
  {
   "cell_type": "code",
   "execution_count": null,
   "id": "0d38d1c4",
   "metadata": {},
   "outputs": [],
   "source": [
    "Задание 6.6"
   ]
  },
  {
   "cell_type": "code",
   "execution_count": 8,
   "id": "6997c064",
   "metadata": {},
   "outputs": [
    {
     "name": "stdout",
     "output_type": "stream",
     "text": [
      "[[1 2 3]\n",
      " [4 5 6]\n",
      " [7 8 9]]\n",
      "[[-0.12309149  0.90453403  0.40824829]\n",
      " [-0.49236596  0.30151134 -0.81649658]\n",
      " [-0.86164044 -0.30151134  0.40824829]]\n",
      "[[-8.12403840e+00 -9.60113630e+00 -1.10782342e+01]\n",
      " [ 0.00000000e+00  9.04534034e-01  1.80906807e+00]\n",
      " [ 0.00000000e+00  0.00000000e+00 -1.77635684e-15]]\n"
     ]
    }
   ],
   "source": [
    "import numpy as np\n",
    "import scipy.linalg\n",
    "A = np.array([[1,2,3],[4,5,6],[7,8,9]])\n",
    "B = np.array([2,5,11])\n",
    "Q, R = np.linalg.qr(A)\n",
    "print(A)\n",
    "print(Q)\n",
    "print(R)"
   ]
  },
  {
   "cell_type": "code",
   "execution_count": 9,
   "id": "5032a362",
   "metadata": {},
   "outputs": [
    {
     "name": "stdout",
     "output_type": "stream",
     "text": [
      "[[1. 2. 3.]\n",
      " [4. 5. 6.]\n",
      " [7. 8. 9.]]\n",
      "[[ 1.00000000e+00 -5.55111512e-16 -2.77555756e-16]\n",
      " [-5.55111512e-16  1.00000000e+00  5.68989300e-16]\n",
      " [-2.77555756e-16  5.68989300e-16  1.00000000e+00]]\n"
     ]
    }
   ],
   "source": [
    "print(np.dot(Q, R))\n",
    "print(np.dot(np.transpose(Q), Q))"
   ]
  },
  {
   "cell_type": "code",
   "execution_count": 10,
   "id": "77137fe8",
   "metadata": {},
   "outputs": [
    {
     "data": {
      "text/plain": [
       "array([[-8.1240384 , -9.6011363 ],\n",
       "       [ 0.        ,  0.90453403]])"
      ]
     },
     "execution_count": 10,
     "metadata": {},
     "output_type": "execute_result"
    }
   ],
   "source": [
    "R1 = R[:2, :2]\n",
    "R1"
   ]
  },
  {
   "cell_type": "code",
   "execution_count": 11,
   "id": "690ed9c8",
   "metadata": {},
   "outputs": [
    {
     "data": {
      "text/plain": [
       "array([-1.21860576e+01,  8.43769499e-15])"
      ]
     },
     "execution_count": 11,
     "metadata": {},
     "output_type": "execute_result"
    }
   ],
   "source": [
    "B1 = np.dot(np.transpose(Q), B)[:2]\n",
    "B1"
   ]
  },
  {
   "cell_type": "code",
   "execution_count": 12,
   "id": "52b63bfb",
   "metadata": {},
   "outputs": [
    {
     "data": {
      "text/plain": [
       "array([1.50000000e+00, 9.32822279e-15])"
      ]
     },
     "execution_count": 12,
     "metadata": {},
     "output_type": "execute_result"
    }
   ],
   "source": [
    "X1 = np.linalg.solve(R1, B1)\n",
    "X1"
   ]
  },
  {
   "cell_type": "code",
   "execution_count": 13,
   "id": "ec5858b4",
   "metadata": {},
   "outputs": [
    {
     "name": "stdout",
     "output_type": "stream",
     "text": [
      "[1.50000000e+00 9.32822279e-15 0.00000000e+00]\n"
     ]
    },
    {
     "data": {
      "text/plain": [
       "1.4999999999999896"
      ]
     },
     "execution_count": 13,
     "metadata": {},
     "output_type": "execute_result"
    }
   ],
   "source": [
    "X = np.append(X1, 0)\n",
    "print(X)               # псевдорешение для исходной системы\n",
    "np.linalg.norm(X)   "
   ]
  },
  {
   "cell_type": "code",
   "execution_count": 14,
   "id": "43e92bda",
   "metadata": {},
   "outputs": [
    {
     "data": {
      "text/plain": [
       "1.2247448713915894"
      ]
     },
     "execution_count": 14,
     "metadata": {},
     "output_type": "execute_result"
    }
   ],
   "source": [
    "np.linalg.norm(np.dot(A, X) - B)   # невязка системы"
   ]
  },
  {
   "cell_type": "code",
   "execution_count": null,
   "id": "42c846c3",
   "metadata": {},
   "outputs": [],
   "source": []
  }
 ],
 "metadata": {
  "kernelspec": {
   "display_name": "Python 3 (ipykernel)",
   "language": "python",
   "name": "python3"
  },
  "language_info": {
   "codemirror_mode": {
    "name": "ipython",
    "version": 3
   },
   "file_extension": ".py",
   "mimetype": "text/x-python",
   "name": "python",
   "nbconvert_exporter": "python",
   "pygments_lexer": "ipython3",
   "version": "3.9.7"
  }
 },
 "nbformat": 4,
 "nbformat_minor": 5
}
