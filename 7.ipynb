{
 "cells": [
  {
   "cell_type": "code",
   "execution_count": null,
   "id": "b55af312",
   "metadata": {},
   "outputs": [],
   "source": [
    "Свойства сложения и умножения матриц"
   ]
  },
  {
   "cell_type": "code",
   "execution_count": null,
   "id": "5cf8ca20",
   "metadata": {},
   "outputs": [],
   "source": [
    "(k * l)*A = k*(l * A)"
   ]
  },
  {
   "cell_type": "code",
   "execution_count": 2,
   "id": "682c48e1",
   "metadata": {},
   "outputs": [
    {
     "name": "stdout",
     "output_type": "stream",
     "text": [
      "[[1. 2. 3.]\n",
      " [4. 5. 6.]\n",
      " [7. 8. 9.]]\n"
     ]
    }
   ],
   "source": [
    "import numpy as np\n",
    "a = np.array([[1,2,3], [4,5,6], [7,8,9]], float)\n",
    "print(a)"
   ]
  },
  {
   "cell_type": "code",
   "execution_count": 4,
   "id": "1017af5d",
   "metadata": {},
   "outputs": [
    {
     "name": "stdout",
     "output_type": "stream",
     "text": [
      "[[ 6. 12. 18.]\n",
      " [24. 30. 36.]\n",
      " [42. 48. 54.]]\n"
     ]
    }
   ],
   "source": [
    "k = 2\n",
    "l = 3\n",
    "b = k * l\n",
    "B = np.dot(a, b)\n",
    "print(B)"
   ]
  },
  {
   "cell_type": "code",
   "execution_count": 5,
   "id": "ebaafe44",
   "metadata": {},
   "outputs": [
    {
     "name": "stdout",
     "output_type": "stream",
     "text": [
      "[[ 6. 12. 18.]\n",
      " [24. 30. 36.]\n",
      " [42. 48. 54.]]\n"
     ]
    }
   ],
   "source": [
    "C = np.dot(l, a) * k\n",
    "print(C)"
   ]
  },
  {
   "cell_type": "code",
   "execution_count": null,
   "id": "5ef5a988",
   "metadata": {},
   "outputs": [],
   "source": [
    "C = B"
   ]
  },
  {
   "cell_type": "code",
   "execution_count": null,
   "id": "6aaf46dc",
   "metadata": {},
   "outputs": [],
   "source": [
    "k * (A + B) = k * A + k * B"
   ]
  },
  {
   "cell_type": "code",
   "execution_count": 7,
   "id": "db07564b",
   "metadata": {},
   "outputs": [
    {
     "name": "stdout",
     "output_type": "stream",
     "text": [
      "[[1. 2. 3.]\n",
      " [4. 5. 6.]\n",
      " [7. 8. 9.]]\n",
      "\n",
      "[[9. 8. 7.]\n",
      " [6. 5. 4.]\n",
      " [3. 2. 1.]]\n"
     ]
    }
   ],
   "source": [
    "import numpy as np\n",
    "d = np.add(c,b)\n",
    "print(a)\n",
    "print('')\n",
    "b = np.array([[9,8,7], [6,5,4], [3,2,1]], float)\n",
    "print(b)"
   ]
  },
  {
   "cell_type": "code",
   "execution_count": 8,
   "id": "d7605451",
   "metadata": {},
   "outputs": [
    {
     "name": "stdout",
     "output_type": "stream",
     "text": [
      "[[20. 20. 20.]\n",
      " [20. 20. 20.]\n",
      " [20. 20. 20.]]\n"
     ]
    }
   ],
   "source": [
    "c = np.add(a,b)*k\n",
    "print(c)\n"
   ]
  },
  {
   "cell_type": "code",
   "execution_count": 10,
   "id": "572e7ee1",
   "metadata": {},
   "outputs": [
    {
     "name": "stdout",
     "output_type": "stream",
     "text": [
      "[[20. 20. 20.]\n",
      " [20. 20. 20.]\n",
      " [20. 20. 20.]]\n"
     ]
    }
   ],
   "source": [
    "d = np.dot(a,k) + np.dot(b,k)\n",
    "print(d)"
   ]
  },
  {
   "cell_type": "code",
   "execution_count": null,
   "id": "4557c5c9",
   "metadata": {},
   "outputs": [],
   "source": [
    "c = d"
   ]
  },
  {
   "cell_type": "code",
   "execution_count": null,
   "id": "8290e73f",
   "metadata": {},
   "outputs": [],
   "source": [
    "(k + l) * A = k * A + l * A"
   ]
  },
  {
   "cell_type": "code",
   "execution_count": 12,
   "id": "eb56fe42",
   "metadata": {},
   "outputs": [
    {
     "name": "stdout",
     "output_type": "stream",
     "text": [
      "[[ 5. 10. 15.]\n",
      " [20. 25. 30.]\n",
      " [35. 40. 45.]]\n"
     ]
    }
   ],
   "source": [
    "a = np.array([[1,2,3], [4,5,6], [7,8,9]], float)\n",
    "k = 2\n",
    "l = 3\n",
    "m = k + l\n",
    "b = np.dot(m,a)\n",
    "print(b)"
   ]
  },
  {
   "cell_type": "code",
   "execution_count": 13,
   "id": "eff8ce2a",
   "metadata": {},
   "outputs": [
    {
     "name": "stdout",
     "output_type": "stream",
     "text": [
      "[[ 2.  4.  6.]\n",
      " [ 8. 10. 12.]\n",
      " [14. 16. 18.]]\n",
      "\n",
      "[[ 3.  6.  9.]\n",
      " [12. 15. 18.]\n",
      " [21. 24. 27.]]\n"
     ]
    }
   ],
   "source": [
    "e = np.dot(k,a)\n",
    "print(e)\n",
    "print('')\n",
    "f = np.dot(l, a)\n",
    "print(f)"
   ]
  },
  {
   "cell_type": "code",
   "execution_count": 14,
   "id": "0f630480",
   "metadata": {},
   "outputs": [
    {
     "name": "stdout",
     "output_type": "stream",
     "text": [
      "[[ 5. 10. 15.]\n",
      " [20. 25. 30.]\n",
      " [35. 40. 45.]]\n"
     ]
    }
   ],
   "source": [
    "c = np.add(e,f)\n",
    "print(c)"
   ]
  },
  {
   "cell_type": "code",
   "execution_count": null,
   "id": "93090f41",
   "metadata": {},
   "outputs": [],
   "source": [
    "c = b"
   ]
  },
  {
   "cell_type": "code",
   "execution_count": null,
   "id": "e9213ef2",
   "metadata": {},
   "outputs": [],
   "source": [
    "(A * B)*C = A*(B * C)"
   ]
  },
  {
   "cell_type": "code",
   "execution_count": null,
   "id": "2efb2ad8",
   "metadata": {},
   "outputs": [],
   "source": [
    "a = np.array([[1,2,3], [4,5,6], [7,8,9]], float)\n",
    "b = np.array([[9,8,7], [6,5,4], [3,2,1]], float)\n",
    "c = np.array([[1,1,1], [1,1,1], [1,1,1]], float)"
   ]
  },
  {
   "cell_type": "code",
   "execution_count": 15,
   "id": "3b68310a",
   "metadata": {},
   "outputs": [
    {
     "name": "stdout",
     "output_type": "stream",
     "text": [
      "[[150. 180. 210.]\n",
      " [330. 405. 480.]\n",
      " [510. 630. 750.]]\n"
     ]
    }
   ],
   "source": [
    "d = np.dot(a,b)\n",
    "print(d)"
   ]
  },
  {
   "cell_type": "code",
   "execution_count": 16,
   "id": "368df797",
   "metadata": {},
   "outputs": [
    {
     "name": "stdout",
     "output_type": "stream",
     "text": [
      "[[11700. 14400. 17100.]\n",
      " [26550. 32625. 38700.]\n",
      " [41400. 50850. 60300.]]\n"
     ]
    }
   ],
   "source": [
    "e = np.dot(d,c)\n",
    "print(e)"
   ]
  },
  {
   "cell_type": "code",
   "execution_count": 17,
   "id": "806d881e",
   "metadata": {},
   "outputs": [
    {
     "name": "stdout",
     "output_type": "stream",
     "text": [
      "[[ 750.  900. 1050.]\n",
      " [1650. 2025. 2400.]\n",
      " [2550. 3150. 3750.]]\n"
     ]
    }
   ],
   "source": [
    "f = np.dot(b,c)\n",
    "print(f)"
   ]
  },
  {
   "cell_type": "code",
   "execution_count": 18,
   "id": "5ff5c285",
   "metadata": {},
   "outputs": [
    {
     "name": "stdout",
     "output_type": "stream",
     "text": [
      "[[11700. 14400. 17100.]\n",
      " [26550. 32625. 38700.]\n",
      " [41400. 50850. 60300.]]\n"
     ]
    }
   ],
   "source": [
    "g = np.dot(f,a)\n",
    "print(g)"
   ]
  },
  {
   "cell_type": "code",
   "execution_count": null,
   "id": "6e7d643f",
   "metadata": {},
   "outputs": [],
   "source": [
    "g = e"
   ]
  },
  {
   "cell_type": "code",
   "execution_count": null,
   "id": "3ea26597",
   "metadata": {},
   "outputs": [],
   "source": [
    "A * (B + C) = A * B + A * C"
   ]
  },
  {
   "cell_type": "code",
   "execution_count": 2,
   "id": "5a3a8a1b",
   "metadata": {},
   "outputs": [],
   "source": [
    "import numpy as np\n",
    "a = np.array([[1,2,3], [4,5,6], [7,8,9]], float)\n",
    "b = np.array([[9,8,7], [6,5,4], [3,2,1]], float)\n",
    "c = np.array([[1,1,1], [1,1,1], [1,1,1]], float)"
   ]
  },
  {
   "cell_type": "code",
   "execution_count": 3,
   "id": "1d191343",
   "metadata": {},
   "outputs": [
    {
     "name": "stdout",
     "output_type": "stream",
     "text": [
      "[[10.  9.  8.]\n",
      " [ 7.  6.  5.]\n",
      " [ 4.  3.  2.]]\n"
     ]
    }
   ],
   "source": [
    "e = np.add(b, c)\n",
    "print(e)"
   ]
  },
  {
   "cell_type": "code",
   "execution_count": 4,
   "id": "1ed4060f",
   "metadata": {},
   "outputs": [
    {
     "name": "stdout",
     "output_type": "stream",
     "text": [
      "[[ 36.  30.  24.]\n",
      " [ 99.  84.  69.]\n",
      " [162. 138. 114.]]\n"
     ]
    }
   ],
   "source": [
    "f = np.dot(a, e)\n",
    "print(f)"
   ]
  },
  {
   "cell_type": "code",
   "execution_count": 5,
   "id": "35c7c2bb",
   "metadata": {},
   "outputs": [
    {
     "name": "stdout",
     "output_type": "stream",
     "text": [
      "[[ 36.  30.  24.]\n",
      " [ 99.  84.  69.]\n",
      " [162. 138. 114.]]\n"
     ]
    }
   ],
   "source": [
    "d = np.dot(a, b)\n",
    "g = np.dot(a, c)\n",
    "h = np.add(d,g)\n",
    "print(h)"
   ]
  },
  {
   "cell_type": "code",
   "execution_count": null,
   "id": "267c3985",
   "metadata": {},
   "outputs": [],
   "source": [
    "h = f"
   ]
  },
  {
   "cell_type": "code",
   "execution_count": null,
   "id": "fdcd7fe3",
   "metadata": {},
   "outputs": [],
   "source": [
    "Задание 5.1"
   ]
  },
  {
   "cell_type": "code",
   "execution_count": 1,
   "id": "ee6d53fc",
   "metadata": {},
   "outputs": [
    {
     "name": "stdout",
     "output_type": "stream",
     "text": [
      "[[5. 0. 0. 0. 0.]\n",
      " [0. 5. 0. 0. 0.]\n",
      " [0. 0. 5. 0. 0.]\n",
      " [0. 0. 0. 5. 0.]\n",
      " [0. 0. 0. 0. 5.]]\n"
     ]
    }
   ],
   "source": [
    "import numpy as np\n",
    "a = np.array([[1,0,0,0,0], [0,1,0,0,0], [0,0,1,0,0], [0,0,0,1,0], [0,0,0,0,1]], float)\n",
    "b = np.dot(a, 5)\n",
    "print(b)"
   ]
  },
  {
   "cell_type": "code",
   "execution_count": 3,
   "id": "165f563b",
   "metadata": {},
   "outputs": [
    {
     "name": "stdout",
     "output_type": "stream",
     "text": [
      "[[0.2 0.  0.  0.  0. ]\n",
      " [0.  0.2 0.  0.  0. ]\n",
      " [0.  0.  0.2 0.  0. ]\n",
      " [0.  0.  0.  0.2 0. ]\n",
      " [0.  0.  0.  0.  0.2]]\n"
     ]
    }
   ],
   "source": [
    "c = np.linalg.inv(b)\n",
    "print(c)"
   ]
  },
  {
   "cell_type": "code",
   "execution_count": null,
   "id": "da7be33d",
   "metadata": {},
   "outputs": [],
   "source": [
    "Задание 5.2"
   ]
  },
  {
   "cell_type": "code",
   "execution_count": 7,
   "id": "2a9a6eb3",
   "metadata": {},
   "outputs": [
    {
     "name": "stdout",
     "output_type": "stream",
     "text": [
      "[[1. 2. 3.]\n",
      " [4. 0. 6.]\n",
      " [7. 8. 9.]]\n"
     ]
    }
   ],
   "source": [
    "import numpy as np\n",
    "a = np.array([[1,2,3], [4,0,6], [7,8,9]], float)\n",
    "print(a)"
   ]
  },
  {
   "cell_type": "code",
   "execution_count": 8,
   "id": "e0d71ed3",
   "metadata": {},
   "outputs": [
    {
     "data": {
      "text/plain": [
       "59.999999999999986"
      ]
     },
     "execution_count": 8,
     "metadata": {},
     "output_type": "execute_result"
    }
   ],
   "source": [
    "np.linalg.det(a)"
   ]
  },
  {
   "cell_type": "code",
   "execution_count": null,
   "id": "8a9b6451",
   "metadata": {},
   "outputs": [],
   "source": [
    "Задание 5.3"
   ]
  },
  {
   "cell_type": "code",
   "execution_count": 9,
   "id": "bab3718a",
   "metadata": {},
   "outputs": [
    {
     "name": "stdout",
     "output_type": "stream",
     "text": [
      "[[1. 2. 3.]\n",
      " [4. 0. 6.]\n",
      " [7. 8. 9.]]\n"
     ]
    }
   ],
   "source": [
    "import numpy as np\n",
    "a = np.array([[1,2,3], [4,0,6], [7,8,9]], float)\n",
    "print(a)"
   ]
  },
  {
   "cell_type": "code",
   "execution_count": 10,
   "id": "775372e4",
   "metadata": {},
   "outputs": [
    {
     "name": "stdout",
     "output_type": "stream",
     "text": [
      "[[-0.8         0.1         0.2       ]\n",
      " [ 0.1        -0.2         0.1       ]\n",
      " [ 0.53333333  0.1        -0.13333333]]\n"
     ]
    }
   ],
   "source": [
    "k = np.linalg.inv(a)\n",
    "print(k)"
   ]
  },
  {
   "cell_type": "code",
   "execution_count": null,
   "id": "2ec2f8dc",
   "metadata": {},
   "outputs": [],
   "source": [
    "Задание 2 Пример матрицы 4х4 с рангом 1"
   ]
  },
  {
   "cell_type": "code",
   "execution_count": 4,
   "id": "0047c730",
   "metadata": {},
   "outputs": [
    {
     "data": {
      "text/plain": [
       "1"
      ]
     },
     "execution_count": 4,
     "metadata": {},
     "output_type": "execute_result"
    }
   ],
   "source": [
    "a = np.array([[0,0,0,1],[0,0,0,2],[0,0,0,3],[0,0,0,4]])\n",
    "np.linalg.matrix_rank(a, 0.0001)"
   ]
  },
  {
   "cell_type": "code",
   "execution_count": null,
   "id": "6b436cd8",
   "metadata": {},
   "outputs": [],
   "source": [
    "Задание 5.4"
   ]
  },
  {
   "cell_type": "code",
   "execution_count": 19,
   "id": "3dc0470b",
   "metadata": {},
   "outputs": [
    {
     "data": {
      "text/plain": [
       "42.0"
      ]
     },
     "execution_count": 19,
     "metadata": {},
     "output_type": "execute_result"
    }
   ],
   "source": [
    "import numpy as np\n",
    "a = np.array([1,5], float)\n",
    "b = np.array([2,8], float)\n",
    "np.dot(a,b)"
   ]
  },
  {
   "cell_type": "code",
   "execution_count": null,
   "id": "08d15d99",
   "metadata": {},
   "outputs": [],
   "source": [
    "Задание 5.5"
   ]
  },
  {
   "cell_type": "code",
   "execution_count": 1,
   "id": "975573b0",
   "metadata": {},
   "outputs": [
    {
     "name": "stdout",
     "output_type": "stream",
     "text": [
      "228.5\n",
      "228.5\n"
     ]
    }
   ],
   "source": [
    "import numpy as np\n",
    "a = np.array([1,5,0], float)\n",
    "b = np.array([2,8,7], float)\n",
    "c = np.array([7,1.5,3], float)\n",
    "v = np.cross(a, b)\n",
    "print(np.inner(v,c))\n",
    "w = np.cross(b, c)\n",
    "print(np.inner(w, a))"
   ]
  }
 ],
 "metadata": {
  "kernelspec": {
   "display_name": "Python 3 (ipykernel)",
   "language": "python",
   "name": "python3"
  },
  "language_info": {
   "codemirror_mode": {
    "name": "ipython",
    "version": 3
   },
   "file_extension": ".py",
   "mimetype": "text/x-python",
   "name": "python",
   "nbconvert_exporter": "python",
   "pygments_lexer": "ipython3",
   "version": "3.9.7"
  }
 },
 "nbformat": 4,
 "nbformat_minor": 5
}
