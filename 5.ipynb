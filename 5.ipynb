{
 "cells": [
  {
   "cell_type": "code",
   "execution_count": null,
   "id": "c08cb59c",
   "metadata": {},
   "outputs": [],
   "source": [
    "Задание 1."
   ]
  },
  {
   "cell_type": "code",
   "execution_count": 2,
   "id": "e41bde4b",
   "metadata": {},
   "outputs": [],
   "source": [
    "%matplotlib inline\n",
    "import numpy as np"
   ]
  },
  {
   "cell_type": "code",
   "execution_count": 5,
   "id": "6f0ccb70",
   "metadata": {},
   "outputs": [
    {
     "name": "stdout",
     "output_type": "stream",
     "text": [
      "\n",
      "черное поле\n",
      "\n",
      "черное поле\n",
      "\n",
      "красное поле\n",
      "\n",
      "красное поле\n",
      "\n",
      "красное поле\n",
      "\n",
      "красное поле\n",
      "\n",
      "черное поле\n",
      "\n",
      "красное поле\n",
      "\n",
      "красное поле\n",
      "\n",
      "красное поле\n",
      "\n",
      "красное поле\n",
      "\n",
      "черное поле\n",
      "\n",
      "черное поле\n",
      "\n",
      "черное поле\n",
      "\n",
      "красное поле\n",
      "\n",
      "черное поле\n",
      "\n",
      "красное поле\n",
      "\n",
      "красное поле\n",
      "\n",
      "черное поле\n",
      "\n",
      "красное поле\n",
      "\n",
      "красное поле\n",
      "\n",
      "черное поле\n",
      "\n",
      "черное поле\n",
      "\n",
      "черное поле\n",
      "\n",
      "красное поле\n",
      "\n",
      "черное поле\n",
      "\n",
      "красное поле\n",
      "\n",
      "черное поле\n",
      "\n",
      "красное поле\n",
      "\n",
      "черное поле\n",
      "\n",
      "черное поле\n",
      "\n",
      "красное поле\n",
      "\n",
      "черное поле\n",
      "\n",
      "черное поле\n",
      "\n",
      "черное поле\n",
      "\n",
      "черное поле\n",
      "\n",
      "красное поле\n",
      "\n",
      "красное поле\n",
      "\n",
      "красное поле\n",
      "\n",
      "красное поле\n",
      "\n",
      "красное поле\n",
      "\n",
      "черное поле\n",
      "\n",
      "красное поле\n",
      "\n",
      "красное поле\n",
      "\n",
      "красное поле\n",
      "\n",
      "черное поле\n",
      "\n",
      "черное поле\n",
      "\n",
      "красное поле\n",
      "\n",
      "красное поле\n",
      "\n",
      "красное поле\n"
     ]
    }
   ],
   "source": [
    "for i in range(0,50):\n",
    "    a = input()\n",
    "    x = np.random.uniform(0,37)\n",
    "    if x<19:\n",
    "        print('красное поле')\n",
    "    elif x>19 and x<37:\n",
    "        print('черное поле')\n",
    "    else:\n",
    "        print('зеро')"
   ]
  },
  {
   "cell_type": "code",
   "execution_count": null,
   "id": "a1311ea2",
   "metadata": {},
   "outputs": [],
   "source": [
    "Задание 2.1"
   ]
  },
  {
   "cell_type": "code",
   "execution_count": 2,
   "id": "ce04a94f",
   "metadata": {},
   "outputs": [],
   "source": [
    "%matplotlib inline\n",
    "import numpy as np"
   ]
  },
  {
   "cell_type": "code",
   "execution_count": 9,
   "id": "f05ec412",
   "metadata": {},
   "outputs": [
    {
     "name": "stdout",
     "output_type": "stream",
     "text": [
      "красное поле: 0.5300000000000002 черное поле: 0.47000000000000025 зеро: 0\n",
      "сумма вероятностей всех вариантов событий = 1.0000000000000004\n"
     ]
    }
   ],
   "source": [
    "k,m,l = 0,0,0\n",
    "n = 100\n",
    "for i in range(0,n):\n",
    "    x = np.random.uniform(0,37)\n",
    "    if x<19:\n",
    "        #print('красное поле')\n",
    "        k = k+0.01\n",
    "    elif x>19 and x<37:\n",
    "        #print('черное поле')\n",
    "        m=m+0.01\n",
    "    else:\n",
    "        #print('зеро')\n",
    "        l=l+0.01\n",
    "print(\"красное поле:\", k, \"черное поле:\", m, \"зеро:\", l) \n",
    "#По теореме сложения вероятностей P(k)+P(m)+P(l)=1\n",
    "P=k+m+l\n",
    "print(\"сумма вероятностей всех вариантов событий =\", P)"
   ]
  },
  {
   "cell_type": "code",
   "execution_count": null,
   "id": "4ada5173",
   "metadata": {},
   "outputs": [],
   "source": [
    "Задание 2.2"
   ]
  },
  {
   "cell_type": "code",
   "execution_count": 10,
   "id": "bf964867",
   "metadata": {},
   "outputs": [],
   "source": [
    "%matplotlib inline\n",
    "import numpy as np\n",
    "\n",
    "import matplotlib.pyplot as plt\n",
    "import matplotlib.mlab as mlab"
   ]
  },
  {
   "cell_type": "code",
   "execution_count": 15,
   "id": "dc5ea61f",
   "metadata": {},
   "outputs": [
    {
     "data": {
      "text/plain": [
       "Text(0.5, 1.0, 'Histigram')"
      ]
     },
     "execution_count": 15,
     "metadata": {},
     "output_type": "execute_result"
    },
    {
     "data": {
      "image/png": "[encoded data removed]",
      "text/plain": [
       "<Figure size 432x288 with 1 Axes>"
      ]
     },
     "metadata": {
      "needs_background": "light"
     },
     "output_type": "display_data"
    }
   ],
   "source": [
    "x = np.random.rand(10)   \n",
    "num_bins = 5\n",
    "n, bins, patches = plt.hist(sum(x), num_bins)     \n",
    "plt.xlabel(\"x\")\n",
    "plt.ylabel(\"Probability\")\n",
    "plt.title(\"Histigram\")"
   ]
  },
  {
   "cell_type": "code",
   "execution_count": null,
   "id": "7f0bf596",
   "metadata": {},
   "outputs": [],
   "source": [
    "Задание 3.1"
   ]
  },
  {
   "cell_type": "code",
   "execution_count": 1,
   "id": "619be05c",
   "metadata": {},
   "outputs": [],
   "source": [
    "import numpy as np\n",
    "import itertools"
   ]
  },
  {
   "cell_type": "code",
   "execution_count": 3,
   "id": "597ae549",
   "metadata": {},
   "outputs": [
    {
     "name": "stdout",
     "output_type": "stream",
     "text": [
      "3648 10000 0.3648\n"
     ]
    }
   ],
   "source": [
    "k, n = 0, 10000\n",
    "a = np.random.randint(0,2,n)\n",
    "b = np.random.randint(0,2,n)\n",
    "c = np.random.randint(0,2,n)\n",
    "d = np.random.randint(0,2,n)\n",
    "x = a + b + c + d\n",
    "for i in range (0, n):\n",
    "    if x[i] == 2:\n",
    "        k = k + 1\n",
    "#print(a, b, c, d)\n",
    "#print(x)\n",
    "print(k, n, k/n)"
   ]
  },
  {
   "cell_type": "code",
   "execution_count": null,
   "id": "8d709064",
   "metadata": {},
   "outputs": [],
   "source": [
    "P = C * 1/2**m\n",
    "C = 6\n",
    "m = 4\n",
    "P = 0.375"
   ]
  },
  {
   "cell_type": "code",
   "execution_count": null,
   "id": "acf6e6fb",
   "metadata": {},
   "outputs": [],
   "source": [
    "Задание 3.2"
   ]
  },
  {
   "cell_type": "code",
   "execution_count": null,
   "id": "5042b541",
   "metadata": {},
   "outputs": [],
   "source": [
    "import numpy as np\n",
    "import itertools"
   ]
  },
  {
   "cell_type": "code",
   "execution_count": 12,
   "id": "ace44ca9",
   "metadata": {},
   "outputs": [
    {
     "name": "stdout",
     "output_type": "stream",
     "text": [
      "36 100 0.36\n"
     ]
    }
   ],
   "source": [
    "k, n = 0, 100\n",
    "a = np.random.randint(0,2,n)\n",
    "b = np.random.randint(0,2,n)\n",
    "c = np.random.randint(0,2,n)\n",
    "#d = np.random.randint(0,2,n)\n",
    "x = a + b + c \n",
    "for i in range (0, n):\n",
    "    if x[i] == 2:\n",
    "        k = k + 1\n",
    "print(k, n, k/n)"
   ]
  },
  {
   "cell_type": "code",
   "execution_count": null,
   "id": "9d5754b9",
   "metadata": {},
   "outputs": [],
   "source": [
    "P = C * 1/2**m\n",
    "C = 3\n",
    "m = 3\n",
    "P = 0.375"
   ]
  },
  {
   "cell_type": "code",
   "execution_count": null,
   "id": "532866d7",
   "metadata": {},
   "outputs": [],
   "source": [
    "Задание 4."
   ]
  },
  {
   "cell_type": "code",
   "execution_count": 14,
   "id": "41cd3c89",
   "metadata": {},
   "outputs": [
    {
     "name": "stdout",
     "output_type": "stream",
     "text": [
      "01234\n",
      "01243\n",
      "01324\n",
      "01342\n",
      "01423\n",
      "01432\n",
      "02134\n",
      "02143\n",
      "02314\n",
      "02341\n",
      "02413\n",
      "02431\n",
      "03124\n",
      "03142\n",
      "03214\n",
      "03241\n",
      "03412\n",
      "03421\n",
      "04123\n",
      "04132\n",
      "04213\n",
      "04231\n",
      "04312\n",
      "04321\n",
      "10234\n",
      "10243\n",
      "10324\n",
      "10342\n",
      "10423\n",
      "10432\n",
      "12034\n",
      "12043\n",
      "12304\n",
      "12340\n",
      "12403\n",
      "12430\n",
      "13024\n",
      "13042\n",
      "13204\n",
      "13240\n",
      "13402\n",
      "13420\n",
      "14023\n",
      "14032\n",
      "14203\n",
      "14230\n",
      "14302\n",
      "14320\n",
      "20134\n",
      "20143\n",
      "20314\n",
      "20341\n",
      "20413\n",
      "20431\n",
      "21034\n",
      "21043\n",
      "21304\n",
      "21340\n",
      "21403\n",
      "21430\n",
      "23014\n",
      "23041\n",
      "23104\n",
      "23140\n",
      "23401\n",
      "23410\n",
      "24013\n",
      "24031\n",
      "24103\n",
      "24130\n",
      "24301\n",
      "24310\n",
      "30124\n",
      "30142\n",
      "30214\n",
      "30241\n",
      "30412\n",
      "30421\n",
      "31024\n",
      "31042\n",
      "31204\n",
      "31240\n",
      "31402\n",
      "31420\n",
      "32014\n",
      "32041\n",
      "32104\n",
      "32140\n",
      "32401\n",
      "32410\n",
      "34012\n",
      "34021\n",
      "34102\n",
      "34120\n",
      "34201\n",
      "34210\n",
      "40123\n",
      "40132\n",
      "40213\n",
      "40231\n",
      "40312\n",
      "40321\n",
      "41023\n",
      "41032\n",
      "41203\n",
      "41230\n",
      "41302\n",
      "41320\n",
      "42013\n",
      "42031\n",
      "42103\n",
      "42130\n",
      "42301\n",
      "42310\n",
      "43012\n",
      "43021\n",
      "43102\n",
      "43120\n",
      "43201\n",
      "43210\n"
     ]
    }
   ],
   "source": [
    "import numpy as np\n",
    "import itertools\n",
    "for p in itertools.permutations(\"01234\", 5):    # перестановки\n",
    "    print(''.join(str(x) for x in p))"
   ]
  },
  {
   "cell_type": "code",
   "execution_count": 15,
   "id": "d18c3002",
   "metadata": {},
   "outputs": [
    {
     "name": "stdout",
     "output_type": "stream",
     "text": [
      "01\n",
      "02\n",
      "03\n",
      "04\n",
      "10\n",
      "12\n",
      "13\n",
      "14\n",
      "20\n",
      "21\n",
      "23\n",
      "24\n",
      "30\n",
      "31\n",
      "32\n",
      "34\n",
      "40\n",
      "41\n",
      "42\n",
      "43\n"
     ]
    }
   ],
   "source": [
    "for p in itertools.permutations(\"01234\", 2):   #20 возможных размещений\n",
    "    print(''.join(str(x) for x in p))"
   ]
  },
  {
   "cell_type": "code",
   "execution_count": 17,
   "id": "c569a471",
   "metadata": {},
   "outputs": [
    {
     "name": "stdout",
     "output_type": "stream",
     "text": [
      "012\n",
      "013\n",
      "014\n",
      "023\n",
      "024\n",
      "034\n",
      "123\n",
      "124\n",
      "134\n",
      "234\n"
     ]
    }
   ],
   "source": [
    "for p in itertools.combinations(\"01234\", 3):   #возможные сочетания\n",
    "    print(''.join(str(x) for x in p))"
   ]
  },
  {
   "cell_type": "code",
   "execution_count": null,
   "id": "aa31e313",
   "metadata": {},
   "outputs": [],
   "source": []
  }
 ],
 "metadata": {
  "kernelspec": {
   "display_name": "Python 3 (ipykernel)",
   "language": "python",
   "name": "python3"
  },
  "language_info": {
   "codemirror_mode": {
    "name": "ipython",
    "version": 3
   },
   "file_extension": ".py",
   "mimetype": "text/x-python",
   "name": "python",
   "nbconvert_exporter": "python",
   "pygments_lexer": "ipython3",
   "version": "3.9.7"
  }
 },
 "nbformat": 4,
 "nbformat_minor": 5
}
